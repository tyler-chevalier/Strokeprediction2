{
 "cells": [
  {
   "cell_type": "markdown",
   "id": "3047bc80",
   "metadata": {},
   "source": [
    "# Machine Learning Project: Predicting Strokes\n",
    "\n",
    "**REQUIREMENTS FOR MIDTERM REPORT**\n",
    "* 1+ Data Preprocessing Method Implemented\n",
    "* 1+ ML Algorithms/Models Implemented\n",
    "* Supervised Learning or Unsupervised Method Implemented (Supervised is highly recommended) \n",
    "* Visualizations\n",
    "* Quantitative Metrics\n",
    "* Analysis of 1+ Algorithm/Model\n",
    "* Next Steps\n",
    "* All the stuff thats already on the proposal report\n",
    "* update gantt and resposibility chart\n",
    "* put on streamlit again\n",
    "\n",
    "*Once you complete a test please put a check mark ✅*"
   ]
  },
  {
   "cell_type": "markdown",
   "id": "3d9eb266",
   "metadata": {},
   "source": [
    "## Data Preprocessing using panda"
   ]
  },
  {
   "cell_type": "code",
   "execution_count": null,
   "id": "113fd814",
   "metadata": {},
   "outputs": [
    {
     "ename": "",
     "evalue": "",
     "output_type": "error",
     "traceback": [
      "\u001b[1;31mRunning cells with '/opt/homebrew/bin/python3' requires the ipykernel package.\n",
      "\u001b[1;31mRun the following command to install 'ipykernel' into the Python environment. \n",
      "\u001b[1;31mCommand: '/opt/homebrew/bin/python3 -m pip install ipykernel -U --user --force-reinstall'"
     ]
    }
   ],
   "source": [
    "import numpy as np\n",
    "import pandas as pd"
   ]
  },
  {
   "cell_type": "code",
   "execution_count": 134,
   "id": "0c7d3a00",
   "metadata": {},
   "outputs": [
    {
     "name": "stdout",
     "output_type": "stream",
     "text": [
      "Removed 0 duplicate rows\n",
      "Replaced 0 missing values in Age column\n",
      "Replaced 201 missing values in BMI column (Male median: 28.40, Female median: 27.80)\n",
      "Replaced 0 missing values in Glucose Level column\n"
     ]
    }
   ],
   "source": [
    "# Load the stroke dataset\n",
    "df = pd.read_csv('healthcare-dataset-stroke-data.csv')\n",
    "\n",
    "# Remove duplicate rows\n",
    "df_no_duplicates = df.drop_duplicates()\n",
    "print(f\"Removed {df.shape[0] - df_no_duplicates.shape[0]} duplicate rows\")\n",
    "\n",
    "# Convert 'N/A' to NaN in the bmi column\n",
    "df_no_duplicates['bmi'] = df_no_duplicates['bmi'].replace('N/A', np.nan).astype(float)\n",
    "\n",
    "# Count missing values before filling\n",
    "missing_age = df_no_duplicates['age'].isna().sum()\n",
    "missing_bmi = df_no_duplicates['bmi'].isna().sum()\n",
    "missing_glucose = df_no_duplicates['avg_glucose_level'].isna().sum()\n",
    "\n",
    "# Calculate medians for age and glucose\n",
    "age_median = df_no_duplicates['age'].median()\n",
    "glucose_median = df_no_duplicates['avg_glucose_level'].median()\n",
    "\n",
    "# Calculate gender-specific BMI medians\n",
    "male_bmi_median = df_no_duplicates[df_no_duplicates['gender'] == 'Male']['bmi'].median()\n",
    "female_bmi_median = df_no_duplicates[df_no_duplicates['gender'] == 'Female']['bmi'].median()\n",
    "overall_bmi_median = df_no_duplicates['bmi'].median()  # For any other gender category\n",
    "\n",
    "# Fill missing values with appropriate medians\n",
    "df_no_duplicates['age'] = df_no_duplicates['age'].fillna(age_median)\n",
    "df_no_duplicates['avg_glucose_level'] = df_no_duplicates['avg_glucose_level'].fillna(glucose_median)\n",
    "\n",
    "# Fill BMI based on gender\n",
    "df_no_duplicates.loc[(df_no_duplicates['bmi'].isna()) & (df_no_duplicates['gender'] == 'Male'), 'bmi'] = male_bmi_median\n",
    "df_no_duplicates.loc[(df_no_duplicates['bmi'].isna()) & (df_no_duplicates['gender'] == 'Female'), 'bmi'] = female_bmi_median\n",
    "df_no_duplicates.loc[(df_no_duplicates['bmi'].isna()), 'bmi'] = overall_bmi_median  # For any remaining NaN values\n",
    "\n",
    "\n",
    "# Print how many missing values were replaced for each column\n",
    "print(f\"Replaced {missing_age} missing values in Age column\")\n",
    "print(f\"Replaced {missing_bmi} missing values in BMI column (Male median: {male_bmi_median:.2f}, Female median: {female_bmi_median:.2f})\")\n",
    "print(f\"Replaced {missing_glucose} missing values in Glucose Level column\")\n",
    "\n",
    "\n"
   ]
  },
  {
   "cell_type": "markdown",
   "id": "0d029744",
   "metadata": {},
   "source": [
    "### changing to binary and multiclass values"
   ]
  },
  {
   "cell_type": "code",
   "execution_count": 135,
   "id": "49197dd9",
   "metadata": {},
   "outputs": [],
   "source": [
    "## change the gender column to binary values\n",
    "df_no_duplicates['gender'] = df_no_duplicates['gender'].map({'Female': 0, 'Male': 2, 'Other': 1})\n",
    "\n",
    "## change the ever_married column to binary values\n",
    "df_no_duplicates['ever_married'] = df_no_duplicates['ever_married'].map({'No': 0, 'Yes': 1})\n",
    "\n",
    "##change work_type column to multi class values\n",
    "df_no_duplicates['work_type'] = df_no_duplicates['work_type'].map({'Govt_job': 0,'Private': 1, 'Self-employed': 2, 'children': 3, 'Never_worked': 4})\n",
    "\n",
    "## change residence_type column to binary values\n",
    "df_no_duplicates['Residence_type'] = df_no_duplicates['Residence_type'].map({'Urban': 0, 'Rural': 1})\n",
    "\n",
    "## change smoking_status column to multi class values\n",
    "df_no_duplicates['smoking_status'] = df_no_duplicates['smoking_status'].map({'never smoked': 0, 'formerly smoked': 1, 'smokes': 2, 'Unknown': 3})\n",
    "\n"
   ]
  },
  {
   "cell_type": "markdown",
   "id": "058e3b3e",
   "metadata": {},
   "source": [
    "### save to new csv"
   ]
  },
  {
   "cell_type": "code",
   "execution_count": 136,
   "id": "85f7fbac",
   "metadata": {},
   "outputs": [
    {
     "name": "stdout",
     "output_type": "stream",
     "text": [
      "Processed data saved to processed_stroke_data.csv\n",
      "Filled missing values with medians - Age: 45.0, Glucose: 91.88499999999999\n"
     ]
    }
   ],
   "source": [
    "# Save the processed data to a new CSV file\n",
    "output_file = 'processed_stroke_data.csv'\n",
    "df_no_duplicates.to_csv(output_file, index=False)\n",
    "print(f\"Processed data saved to {output_file}\")\n",
    "print(f\"Filled missing values with medians - Age: {age_median}, Glucose: {glucose_median}\")"
   ]
  },
  {
   "cell_type": "markdown",
   "id": "4dfce5c7",
   "metadata": {},
   "source": [
    "## ______ model"
   ]
  },
  {
   "cell_type": "code",
   "execution_count": 137,
   "id": "c711770f",
   "metadata": {},
   "outputs": [
    {
     "name": "stdout",
     "output_type": "stream",
     "text": [
      "457 mislabeled points out of a total of 3577 points\n",
      "Accuracy score: 0.872239\n",
      "F1 score: 0.237062\n",
      "Precision score: 0.163972\n",
      "Recall score: 0.427711\n",
      "LR+: 4.030170\n",
      "LR-: 0.640236\n"
     ]
    },
    {
     "name": "stderr",
     "output_type": "stream",
     "text": [
      "c:\\Users\\xenap\\anaconda3\\Lib\\site-packages\\sklearn\\utils\\validation.py:1339: DataConversionWarning: A column-vector y was passed when a 1d array was expected. Please change the shape of y to (n_samples, ), for example using ravel().\n",
      "  y = column_or_1d(y, warn=True)\n"
     ]
    }
   ],
   "source": [
    "from sklearn.model_selection import train_test_split\n",
    "from sklearn.naive_bayes import GaussianNB\n",
    "from sklearn.metrics import accuracy_score\n",
    "from sklearn.metrics import f1_score\n",
    "from sklearn.metrics import precision_score\n",
    "from sklearn.metrics import recall_score\n",
    "from sklearn.metrics import class_likelihood_ratios\n",
    "from sklearn.preprocessing import StandardScaler\n",
    "import matplotlib.pyplot as plt\n",
    "\n",
    "\n",
    "\n",
    "# Naive Bayes using all features\n",
    "feature_columns = ['gender', 'age', 'hypertension', 'heart_disease', 'ever_married', 'work_type', 'Residence_type', 'avg_glucose_level', 'bmi', 'smoking_status']\n",
    "X_dataset = pd.read_csv('processed_stroke_data.csv', usecols=feature_columns)\n",
    "y_columns = ['stroke']\n",
    "y_dataset = pd.read_csv('processed_stroke_data.csv', usecols=y_columns)\n",
    "\n",
    "scaler = StandardScaler()\n",
    "X_dataset_normalized = scaler.fit_transform(X_dataset)\n",
    "\n",
    "y_columns = ['stroke']\n",
    "y_dataset = pd.read_csv('processed_stroke_data.csv', usecols=y_columns)\n",
    "\n",
    "X_train, X_test, y_train, y_test = train_test_split(X_dataset_normalized, y_dataset, test_size=0.7, random_state=0)\n",
    "gaussian_orig = GaussianNB()\n",
    "\n",
    "y_pred = gaussian_orig.fit(X_train, y_train).predict(X_test)\n",
    "\n",
    "y_test_r = np.ravel(y_test)\n",
    "print(\"%d mislabeled points out of a total of %d points\" % ((y_test_r != y_pred).sum(), X_test.shape[0]))\n",
    "\n",
    "acc_orig = accuracy_score(y_test, y_pred)\n",
    "print(\"Accuracy score: %f\" % (acc_orig))\n",
    "\n",
    "f1_orig = f1_score(y_test, y_pred)\n",
    "print(\"F1 score: %f\" % (f1_orig))\n",
    "\n",
    "prec_orig = precision_score(y_test, y_pred)\n",
    "print(\"Precision score: %f\" % (prec_orig))\n",
    "\n",
    "rec_orig = recall_score(y_test, y_pred)\n",
    "print(\"Recall score: %f\" % (rec_orig))\n",
    "\n",
    "class_orig = class_likelihood_ratios(y_test, y_pred, labels=[0,1])\n",
    "print(\"LR+: %f\" % (class_orig[0]))\n",
    "print(\"LR-: %f\" % (class_orig[1]))"
   ]
  },
  {
   "cell_type": "code",
   "execution_count": 138,
   "id": "55232816",
   "metadata": {},
   "outputs": [
    {
     "name": "stdout",
     "output_type": "stream",
     "text": [
      "416 mislabeled points out of a total of 3577 points\n",
      "Accuracy score: 0.883701\n",
      "F1 score: 0.246377\n",
      "Precision score: 0.176166\n",
      "Recall score: 0.409639\n",
      "LR+: 4.393953\n",
      "LR-: 0.651058\n"
     ]
    },
    {
     "name": "stderr",
     "output_type": "stream",
     "text": [
      "c:\\Users\\xenap\\anaconda3\\Lib\\site-packages\\sklearn\\utils\\validation.py:1339: DataConversionWarning: A column-vector y was passed when a 1d array was expected. Please change the shape of y to (n_samples, ), for example using ravel().\n",
      "  y = column_or_1d(y, warn=True)\n"
     ]
    }
   ],
   "source": [
    "# Naive Bayes feature reduced variant 1 (remove features with little effect)\n",
    "feature_columns = ['age', 'hypertension', 'ever_married', 'work_type', 'avg_glucose_level', 'bmi']\n",
    "X_dataset = pd.read_csv('processed_stroke_data.csv', usecols=feature_columns)\n",
    "y_columns = ['stroke']\n",
    "y_dataset = pd.read_csv('processed_stroke_data.csv', usecols=y_columns)\n",
    "\n",
    "scaler = StandardScaler()\n",
    "X_dataset_normalized = scaler.fit_transform(X_dataset)\n",
    "\n",
    "y_columns = ['stroke']\n",
    "y_dataset = pd.read_csv('processed_stroke_data.csv', usecols=y_columns)\n",
    "\n",
    "X_train, X_test, y_train, y_test = train_test_split(X_dataset_normalized, y_dataset, test_size=0.7, random_state=0)\n",
    "\n",
    "gaussian_orig = GaussianNB()\n",
    "\n",
    "y_pred = gaussian_orig.fit(X_train, y_train).predict(X_test)\n",
    "\n",
    "y_test_r = np.ravel(y_test)\n",
    "print(\"%d mislabeled points out of a total of %d points\" % ((y_test_r != y_pred).sum(), X_test.shape[0]))\n",
    "\n",
    "acc_var1 = accuracy_score(y_test, y_pred)\n",
    "print(\"Accuracy score: %f\" % (acc_var1))\n",
    "\n",
    "f1_var1 = f1_score(y_test, y_pred)\n",
    "print(\"F1 score: %f\" % (f1_var1))\n",
    "\n",
    "prec_var1 = precision_score(y_test, y_pred)\n",
    "print(\"Precision score: %f\" % (prec_var1))\n",
    "\n",
    "rec_var1 = recall_score(y_test, y_pred)\n",
    "print(\"Recall score: %f\" % (rec_var1))\n",
    "\n",
    "class_var1 = class_likelihood_ratios(y_test, y_pred, labels=[0,1])\n",
    "print(\"LR+: %f\" % (class_var1[0]))\n",
    "print(\"LR-: %f\" % (class_var1[1]))"
   ]
  },
  {
   "cell_type": "code",
   "execution_count": 139,
   "id": "ed633a7d",
   "metadata": {},
   "outputs": [
    {
     "name": "stdout",
     "output_type": "stream",
     "text": [
      "364 mislabeled points out of a total of 3577 points\n",
      "Accuracy score: 0.898239\n",
      "F1 score: 0.191111\n",
      "Precision score: 0.151408\n",
      "Recall score: 0.259036\n",
      "LR+: 3.666275\n",
      "LR-: 0.797296\n"
     ]
    },
    {
     "name": "stderr",
     "output_type": "stream",
     "text": [
      "c:\\Users\\xenap\\anaconda3\\Lib\\site-packages\\sklearn\\utils\\validation.py:1339: DataConversionWarning: A column-vector y was passed when a 1d array was expected. Please change the shape of y to (n_samples, ), for example using ravel().\n",
      "  y = column_or_1d(y, warn=True)\n"
     ]
    }
   ],
   "source": [
    "\n",
    "\n",
    "# Naive Bayes feature reduced variant 2 (highest accuracy)\n",
    "feature_columns = ['age', 'hypertension', 'bmi', 'smoking_status']\n",
    "X_dataset = pd.read_csv('processed_stroke_data.csv', usecols=feature_columns)\n",
    "\n",
    "scaler = StandardScaler()\n",
    "X_dataset_normalized = scaler.fit_transform(X_dataset)\n",
    "\n",
    "y_columns = ['stroke']\n",
    "y_dataset = pd.read_csv('processed_stroke_data.csv', usecols=y_columns)\n",
    "\n",
    "X_train, X_test, y_train, y_test = train_test_split(X_dataset_normalized, y_dataset, test_size=0.7, random_state=0)\n",
    "\n",
    "gaussian_orig = GaussianNB()\n",
    "\n",
    "y_pred = gaussian_orig.fit(X_train, y_train).predict(X_test)\n",
    "\n",
    "y_test_r = np.ravel(y_test)\n",
    "print(\"%d mislabeled points out of a total of %d points\" % ((y_test_r != y_pred).sum(), X_test.shape[0]))\n",
    "\n",
    "acc_var2 = accuracy_score(y_test, y_pred)\n",
    "print(\"Accuracy score: %f\" % (acc_var2))\n",
    "\n",
    "f1_var2 = f1_score(y_test, y_pred)\n",
    "print(\"F1 score: %f\" % (f1_var2))\n",
    "\n",
    "prec_var2 = precision_score(y_test, y_pred)\n",
    "print(\"Precision score: %f\" % (prec_var2))\n",
    "\n",
    "rec_var2 = recall_score(y_test, y_pred)\n",
    "print(\"Recall score: %f\" % (rec_var2))\n",
    "\n",
    "class_var2 = class_likelihood_ratios(y_test, y_pred, labels=[0,1])\n",
    "print(\"LR+: %f\" % (class_var2[0]))\n",
    "print(\"LR-: %f\" % (class_var2[1]))"
   ]
  },
  {
   "cell_type": "code",
   "execution_count": 140,
   "id": "d8e76617",
   "metadata": {},
   "outputs": [
    {
     "data": {
      "image/png": "[encoded data removed]",
      "text/plain": [
       "<Figure size 640x480 with 1 Axes>"
      ]
     },
     "metadata": {},
     "output_type": "display_data"
    }
   ],
   "source": [
    "variants = ['Original', 'Variant 1', 'Variant 2']\n",
    "accuracies = [acc_orig, acc_var1, acc_var2]\n",
    "\n",
    "plt.bar(variants, accuracies)\n",
    "plt.title('Naive Bayes Accuracies')\n",
    "plt.ylabel('Score')\n",
    "plt.show()"
   ]
  },
  {
   "cell_type": "code",
   "execution_count": 141,
   "id": "d8ece43f",
   "metadata": {},
   "outputs": [
    {
     "data": {
      "image/png": "[encoded data removed]",
      "text/plain": [
       "<Figure size 640x480 with 1 Axes>"
      ]
     },
     "metadata": {},
     "output_type": "display_data"
    }
   ],
   "source": [
    "variants = ['Original', 'Variant 1', 'Variant 2']\n",
    "f1_scores = [f1_orig, f1_var1, f1_var2]\n",
    "\n",
    "plt.bar(variants, f1_scores)\n",
    "plt.title('Naive Bayes F1 Scores')\n",
    "plt.ylabel('Score')\n",
    "plt.show()"
   ]
  },
  {
   "cell_type": "code",
   "execution_count": 142,
   "id": "a8ef0fe5",
   "metadata": {},
   "outputs": [
    {
     "data": {
      "image/png": "[encoded data removed]",
      "text/plain": [
       "<Figure size 640x480 with 1 Axes>"
      ]
     },
     "metadata": {},
     "output_type": "display_data"
    }
   ],
   "source": [
    "variants = ['Original', 'Variant 1', 'Variant 2']\n",
    "LRp_scores = [class_orig[0], class_var1[0], class_var2[0]]\n",
    "LRm_scores = [class_orig[1], class_var1[1], class_var2[1]]\n",
    "\n",
    "w, x = 0.4, np.arange(len(variants))\n",
    "\n",
    "fig, ax = plt.subplots()\n",
    "ax.bar(x-w/2, LRp_scores, width=w, label=\"LR+ Scores\")\n",
    "ax.bar(x+w/2, LRm_scores, width=w, label=\"LR- Scores\")\n",
    "\n",
    "ax.set_xticks(x)\n",
    "ax.set_xticklabels(variants)\n",
    "ax.set_ylabel(\"Scores\")\n",
    "ax.set_title(\"Naive Bayes Class Likelihood Ratios\")\n",
    "ax.legend()\n",
    "\n",
    "plt.show()"
   ]
  },
  {
   "cell_type": "markdown",
   "id": "ee5f3a59",
   "metadata": {},
   "source": [
    "##  Supervised Learning or Unsupervised Method"
   ]
  },
  {
   "cell_type": "code",
   "execution_count": null,
   "id": "0dbf759d",
   "metadata": {},
   "outputs": [],
   "source": []
  },
  {
   "cell_type": "markdown",
   "id": "1b92c891",
   "metadata": {},
   "source": [
    "##  Visualizations and Quantitative Metrics"
   ]
  },
  {
   "cell_type": "code",
   "execution_count": null,
   "id": "f0353250",
   "metadata": {},
   "outputs": [],
   "source": []
  },
  {
   "cell_type": "markdown",
   "id": "191e39eb",
   "metadata": {},
   "source": [
    "## Analysis of 1+ Algorithm/Model"
   ]
  },
  {
   "cell_type": "code",
   "execution_count": null,
   "id": "42158db6",
   "metadata": {},
   "outputs": [],
   "source": []
  },
  {
   "cell_type": "markdown",
   "id": "f4c40e23-00d8-4e36-94de-6a042d494a99",
   "metadata": {},
   "source": [
    "## Next Steps"
   ]
  },
  {
   "cell_type": "markdown",
   "id": "84ef16f7-afeb-4035-b594-8f72815f80d1",
   "metadata": {},
   "source": [
    "Because we are moving to the final phase of the project, the biggest goals we are pursuing are implementing our third model, performing evaluation by comparing all three models, and preparing final report and presentation. Here are the next steps in detail:\n",
    "\n",
    "* **Model 3 (M3) Design & Selection**: Our team is going to decide what third ML algorithm we are going to use. (e.g. Decision Tree, Gradient Boosting, etc.). We will jusfity the selection based on the prior performance.\n",
    "* **Data Cleaning & Preparation**: Our team will apply preprocessing steps that are already existing and adapt if needed. The components that we will consider are M3's scaling or sensitivity.\n",
    "* **Visualization**: We will explore how M3 will proceess data using plots such as boundaries of decision, partial dependence, or feature importances.\n",
    "* **Feature reduction**: We will perform correlation analysis, recursive feature elimination, or PCA if it is beneficial for M3.\n",
    "* **Implementation & Coding**: Our team will train and adjust our model using libraries that are suitable.\n",
    "* **Evaluation**: We will assess M3 as the same as M1, M2 to make better, more consistent comparison.\n",
    "\n",
    "### Comparing models & Analysis \n",
    "For M1, M2, and M3, we are going to compare all three models, Naive Bayes, SVM, and M3. We will check strengths and limitations, by comparing their simplicity, accuracy, interpretability. After, we will work on the final report and video creation."
   ]
  },
  {
   "cell_type": "markdown",
   "id": "0827aad9-e7b9-4fae-a7ca-a2d6944297fd",
   "metadata": {},
   "source": [
    "## Gantt Chart"
   ]
  },
  {
   "cell_type": "code",
   "execution_count": null,
   "id": "e6abce4c-d7b0-4884-96c4-7ea89df218dd",
   "metadata": {},
   "outputs": [],
   "source": []
  }
 ],
 "metadata": {
  "kernelspec": {
   "display_name": "Python (StrokePrediction)",
   "language": "python",
   "name": "stroke-env"
  },
  "language_info": {
   "codemirror_mode": {
    "name": "ipython",
    "version": 3
   },
   "file_extension": ".py",
   "mimetype": "text/x-python",
   "name": "python",
   "nbconvert_exporter": "python",
   "pygments_lexer": "ipython3",
   "version": "3.12.4"
  }
 },
 "nbformat": 4,
 "nbformat_minor": 5
}
